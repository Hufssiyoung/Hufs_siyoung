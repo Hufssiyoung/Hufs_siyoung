{
 "cells": [
  {
   "cell_type": "markdown",
   "id": "663599c0-378a-4843-b154-5aa8d8fba997",
   "metadata": {},
   "source": [
    "### 프로그래밍이란?"
   ]
  },
  {
   "cell_type": "code",
   "execution_count": null,
   "id": "722270e5-62c6-4c73-a392-b4b665366d6c",
   "metadata": {},
   "outputs": [],
   "source": []
  }
 ],
 "metadata": {
  "kernelspec": {
   "display_name": "Python 3 (ipykernel)",
   "language": "python",
   "name": "python3"
  },
  "language_info": {
   "codemirror_mode": {
    "name": "ipython",
    "version": 3
   },
   "file_extension": ".py",
   "mimetype": "text/x-python",
   "name": "python",
   "nbconvert_exporter": "python",
   "pygments_lexer": "ipython3",
   "version": "3.9.7"
  }
 },
 "nbformat": 4,
 "nbformat_minor": 5
}
