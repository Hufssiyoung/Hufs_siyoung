{
 "cells": [
  {
   "cell_type": "markdown",
   "id": "663599c0-378a-4843-b154-5aa8d8fba997",
   "metadata": {
    "tags": []
   },
   "source": [
    "### 프로그래밍이란?"
   ]
  },
  {
   "cell_type": "markdown",
   "id": "d2cedc80-36ed-4ca4-80ad-a78a6ac5e63f",
   "metadata": {},
   "source": [
    "+ programing: 프로그래밍 언어를 사용하여 프로그램을 개발하는 것\n",
    "    -여기서 사용되는 프로그래밍 언어에는 java, c, python 등이 존재\n",
    "+ program: 일련의 작업을 자동화 하는 것\n",
    "    -사람이 모든 일을 수동으로 처리하면 그만큼의 시간과 비용이 소모되기 때문에 컴퓨터를 통해 작업을 자동화함으로써 효율성 극대화\n",
    "+ python: 프로그래밍 언어 중 하나, 인간이 컴퓨터에게 작업을 명령하기 위해 사용하는 컴퓨터가 이해할 수 있는 언어\n",
    "    -파이썬을 배우는 이유는 여러가지가 있지만 그 이유는 쉽기 때문...?, 다른 언어들과 달리 직관적(?)"
   ]
  },
  {
   "cell_type": "markdown",
   "id": "09e16da6-da54-4a55-b707-501f024306f8",
   "metadata": {},
   "source": [
    "### Ch2. Data: Type, Value, Variables, and Names"
   ]
  },
  {
   "cell_type": "markdown",
   "id": "0ab31b81-0e27-4257-b51e-40bb25434abf",
   "metadata": {},
   "source": [
    " + 변수-variable: 특정한 값을 저장하는 공간\n",
    "-Ex)a=2에서 a와 같은 것이 변수\n",
    " + 값-value: 값은 그냥 값\n",
    " + 자료형- type: 데이터의 형태에 대한 정보\n",
    "-Ex) a,1,0.5, a==2 등으로 자료형이 분류됨\n",
    " + 할당하다-assign: 숫자 2를 'a'라는 문자에 넣는 과정\n",
    "-Ex) a=2\n",
    "-cf) 그렇다면 수학에서 처럼 a가 2와 같다는 어떻게 표현할까?-->a==2라고 표현 "
   ]
  },
  {
   "cell_type": "markdown",
   "id": "18256961-5d69-4930-ac80-719de9c05491",
   "metadata": {},
   "source": [
    "### 변수의 타입\n",
    "+ 파이썬의 변수 타입에는 여러가지가 존재\n",
    "+ 그러나 그 중에서 자주 사용되는 것들은 크게 4가지 정도"
   ]
  },
  {
   "cell_type": "markdown",
   "id": "6568fae1-d8f1-40e3-939b-190a332ea9df",
   "metadata": {},
   "source": [
    "+ boolean형-bool: True와 False로 구분되는 변수들을 이야기함\n",
    "Ex) a==2, a!=2 등과 같이 참과 거짓으로 분류되는 문장들\n",
    "+ integer형-int: 정수형\n",
    "Ex) 47, 27500, 202102995 등과 같이 소수점이 없는 숫자\n",
    "+ floating point number-float: 부동소수점\n",
    "Ex) 3.14, 0.5, 2.3, 16.7과 같이 소수점이 존재하는 숫자들\n",
    "+ string-str: 텍스트 문자열\n",
    "Ex) 'attack','wood','hello_world'과 같은 문자로 이루어진 문장"
   ]
  },
  {
   "cell_type": "code",
   "execution_count": 1,
   "id": "eb80b9a2-9aca-4db0-8758-d4424a0920d2",
   "metadata": {},
   "outputs": [
    {
     "data": {
      "text/plain": [
       "True"
      ]
     },
     "execution_count": 1,
     "metadata": {},
     "output_type": "execute_result"
    }
   ],
   "source": [
    "a=2\n",
    "a==2"
   ]
  },
  {
   "cell_type": "code",
   "execution_count": 2,
   "id": "5eb79280-f2be-43fd-99fc-4f3dba41c676",
   "metadata": {},
   "outputs": [
    {
     "data": {
      "text/plain": [
       "bool"
      ]
     },
     "execution_count": 2,
     "metadata": {},
     "output_type": "execute_result"
    }
   ],
   "source": [
    "type(a==2)"
   ]
  },
  {
   "cell_type": "code",
   "execution_count": 3,
   "id": "049c0fff-75e4-451b-88c6-55629a8b79c7",
   "metadata": {},
   "outputs": [
    {
     "data": {
      "text/plain": [
       "False"
      ]
     },
     "execution_count": 3,
     "metadata": {},
     "output_type": "execute_result"
    }
   ],
   "source": [
    "b=3\n",
    "b==2"
   ]
  },
  {
   "cell_type": "code",
   "execution_count": 4,
   "id": "a3c19fc0-1c01-4531-a14a-0e08eba48f02",
   "metadata": {},
   "outputs": [
    {
     "data": {
      "text/plain": [
       "bool"
      ]
     },
     "execution_count": 4,
     "metadata": {},
     "output_type": "execute_result"
    }
   ],
   "source": [
    "type(b==2)"
   ]
  },
  {
   "cell_type": "code",
   "execution_count": 6,
   "id": "2bc3f7d5-7b1e-4fb7-81d1-83af6a37de48",
   "metadata": {},
   "outputs": [
    {
     "data": {
      "text/plain": [
       "int"
      ]
     },
     "execution_count": 6,
     "metadata": {},
     "output_type": "execute_result"
    }
   ],
   "source": [
    "num=4\n",
    "4\n",
    "type(num)"
   ]
  },
  {
   "cell_type": "code",
   "execution_count": 7,
   "id": "0ed5f715-470e-4af6-941f-2b25e42cbe4d",
   "metadata": {},
   "outputs": [
    {
     "data": {
      "text/plain": [
       "float"
      ]
     },
     "execution_count": 7,
     "metadata": {},
     "output_type": "execute_result"
    }
   ],
   "source": [
    "num2=1.0\n",
    "1.0\n",
    "type(num2)"
   ]
  },
  {
   "cell_type": "code",
   "execution_count": 8,
   "id": "61a0cda3-3c19-4672-ad59-c698415a86b3",
   "metadata": {},
   "outputs": [
    {
     "name": "stdout",
     "output_type": "stream",
     "text": [
      "5.0\n"
     ]
    },
    {
     "data": {
      "text/plain": [
       "float"
      ]
     },
     "execution_count": 8,
     "metadata": {},
     "output_type": "execute_result"
    }
   ],
   "source": [
    "print(num+num2)\n",
    "type(num+num2)"
   ]
  },
  {
   "cell_type": "code",
   "execution_count": 12,
   "id": "830c8131-0228-47d5-b261-28979c972423",
   "metadata": {},
   "outputs": [
    {
     "name": "stdout",
     "output_type": "stream",
     "text": [
      "chun si young\n"
     ]
    },
    {
     "data": {
      "text/plain": [
       "str"
      ]
     },
     "execution_count": 12,
     "metadata": {},
     "output_type": "execute_result"
    }
   ],
   "source": [
    "#요류가 발생함-문자열을 대입할 때에는 반드시 '',\" \"에 주의\n",
    "name='chun si young'\n",
    "print(name)\n",
    "type(name)"
   ]
  },
  {
   "cell_type": "code",
   "execution_count": 13,
   "id": "9de0716b-b586-4d89-9917-36ea139b70f2",
   "metadata": {},
   "outputs": [
    {
     "name": "stdout",
     "output_type": "stream",
     "text": [
      "middle school friend\n"
     ]
    },
    {
     "data": {
      "text/plain": [
       "str"
      ]
     },
     "execution_count": 13,
     "metadata": {},
     "output_type": "execute_result"
    }
   ],
   "source": [
    "Bestfriend='middle school friend'\n",
    "print(Bestfriend)\n",
    "type(Bestfriend)"
   ]
  },
  {
   "cell_type": "markdown",
   "id": "5d88d46c-1eec-4b6c-8159-d399bc17f3e7",
   "metadata": {},
   "source": [
    "###### signle quote 안에 single quote를 문자로 인식하도록 하는 방법"
   ]
  },
  {
   "cell_type": "markdown",
   "id": "42afdcc4-b41b-4aec-b977-391cfe6b41f8",
   "metadata": {},
   "source": [
    "1. \\를 사용하는 방식\n",
    "    print('I\\'m sam.')\n",
    "2. \" \"를 사용하는 방식\n",
    "    print(\"I'm sam.\")\n",
    "\n",
    "- 2번 방법이 직관적이고 기억해서 사용하기 좋을 것"
   ]
  },
  {
   "cell_type": "code",
   "execution_count": 14,
   "id": "c9d3f854-9cf8-4144-b47b-8f854f2afc00",
   "metadata": {},
   "outputs": [
    {
     "name": "stdout",
     "output_type": "stream",
     "text": [
      "I'm sam.\n",
      "I'm sam.\n"
     ]
    }
   ],
   "source": [
    "print('I\\'m sam.')\n",
    "print(\"I'm sam.\")"
   ]
  },
  {
   "cell_type": "markdown",
   "id": "322de2d2-01de-45dc-a473-ed16f8c47bfc",
   "metadata": {},
   "source": [
    "### 변수명 정하기\n",
    "- 변수명을 정하는 것은 a=3과 같이 단순하고 자신만이 알아볼 수 있도록 작성하는 것이 아니라 다른 사람들이 쉽게 알아보고 이해할 수 있도록 정하는 것이 중요\n",
    "- 그렇기 때문에 변수명을 정하는데에 신중해야함\n",
    "- 간결함과 명확성의 균형을 유지하도록 해야함"
   ]
  },
  {
   "cell_type": "markdown",
   "id": "137ee94a-ce4c-4a07-a1d8-ca2ad7e77334",
   "metadata": {},
   "source": [
    "+ 소문자, 대문자, 숫자, 언더바(_)를 사용\n",
    "- 예:'name', 'my_name', 'MYNAME', 'MY_NAME'(대문자는 특별한 용도가 따로 존재-주의해서 사용)"
   ]
  },
  {
   "cell_type": "markdown",
   "id": "306c3372-eaf7-40be-ba77-77718b7b9972",
   "metadata": {},
   "source": [
    "- 변수명으로 사용할 수 없는 케이스\n",
    "1. 숫자로 시작할 수 없다(문자 중간이나 끝에는 사용 가능)\n",
    "2. '-'(빼기 기호)는 사용할 수 없다\n",
    "3. 예약어는 변수명으로 사용할 수 없다."
   ]
  },
  {
   "cell_type": "code",
   "execution_count": 16,
   "id": "7f4baea1-d033-4eb9-893a-186fbb719274",
   "metadata": {},
   "outputs": [
    {
     "ename": "SyntaxError",
     "evalue": "invalid syntax (Temp/ipykernel_108376/1188429761.py, line 1)",
     "output_type": "error",
     "traceback": [
      "\u001b[1;36m  File \u001b[1;32m\"C:\\Users\\user\\AppData\\Local\\Temp/ipykernel_108376/1188429761.py\"\u001b[1;36m, line \u001b[1;32m1\u001b[0m\n\u001b[1;33m    3boys='Tom, Jack, Micheal'\u001b[0m\n\u001b[1;37m     ^\u001b[0m\n\u001b[1;31mSyntaxError\u001b[0m\u001b[1;31m:\u001b[0m invalid syntax\n"
     ]
    }
   ],
   "source": [
    "3boys='Tom, Jack, Micheal' #숫자로 시작해서 에러가 발생함"
   ]
  },
  {
   "cell_type": "code",
   "execution_count": 17,
   "id": "5b30b6cc-49da-43e7-ae76-87d572196094",
   "metadata": {},
   "outputs": [
    {
     "ename": "SyntaxError",
     "evalue": "cannot assign to operator (Temp/ipykernel_108376/774688237.py, line 1)",
     "output_type": "error",
     "traceback": [
      "\u001b[1;36m  File \u001b[1;32m\"C:\\Users\\user\\AppData\\Local\\Temp/ipykernel_108376/774688237.py\"\u001b[1;36m, line \u001b[1;32m1\u001b[0m\n\u001b[1;33m    My-friend='홍길동'\u001b[0m\n\u001b[1;37m    ^\u001b[0m\n\u001b[1;31mSyntaxError\u001b[0m\u001b[1;31m:\u001b[0m cannot assign to operator\n"
     ]
    }
   ],
   "source": [
    "My-friend='홍길동' #(-)부호가 들어갔기 때문에 에러가 발생"
   ]
  },
  {
   "cell_type": "code",
   "execution_count": 22,
   "id": "dfc6e8fa-e009-4f3c-b2d4-86d936db0196",
   "metadata": {},
   "outputs": [
    {
     "name": "stdout",
     "output_type": "stream",
     "text": [
      "['False', 'None', 'True', '__peg_parser__', 'and', 'as', 'assert', 'async', 'await', 'break', 'class', 'continue', 'def', 'del', 'elif', 'else', 'except', 'finally', 'for', 'from', 'global', 'if', 'import', 'in', 'is', 'lambda', 'nonlocal', 'not', 'or', 'pass', 'raise', 'return', 'try', 'while', 'with', 'yield']\n"
     ]
    }
   ],
   "source": [
    "print(keyword.kwlist)"
   ]
  },
  {
   "cell_type": "markdown",
   "id": "a48e7d98-65ee-4c2d-af32-6a3c6b20cb6b",
   "metadata": {},
   "source": [
    "주의할 점(특별한 용도가 있어서 일반적으로 상용하지 않는 변수명 타입)\n",
    "1. 언더바로 시작하는 변수명\n",
    "- Ex) _name, _hufs, _python\n",
    "2. 언더바가 2개 있는 변수명\n",
    "- Ex) _name_, _hufs_, -python_\n",
    "3. 대문자로 시작하는 변수명\n",
    "- Ex) Car, Name, Hufs, Python\n",
    "4. 전체가 대문자인 변수명\n",
    "- Ex) CAR, NAME, HUFS, PYTHON"
   ]
  },
  {
   "cell_type": "markdown",
   "id": "2b0dda94-c008-4ee7-82e2-43fd986625e6",
   "metadata": {},
   "source": [
    "#### number != Number"
   ]
  },
  {
   "cell_type": "code",
   "execution_count": 23,
   "id": "8cd6ceb8-08c0-4603-895c-ea47a25aeeb2",
   "metadata": {},
   "outputs": [
    {
     "data": {
      "text/plain": [
       "False"
      ]
     },
     "execution_count": 23,
     "metadata": {},
     "output_type": "execute_result"
    }
   ],
   "source": [
    "word1='number'\n",
    "word2='Number'\n",
    "word1==word2"
   ]
  },
  {
   "cell_type": "code",
   "execution_count": 24,
   "id": "9ab94270-a536-42c4-9134-a57a6687ed86",
   "metadata": {},
   "outputs": [
    {
     "data": {
      "text/plain": [
       "True"
      ]
     },
     "execution_count": 24,
     "metadata": {},
     "output_type": "execute_result"
    }
   ],
   "source": [
    "word1!=word2"
   ]
  },
  {
   "cell_type": "code",
   "execution_count": 25,
   "id": "d3f6dc57-5aa3-4ee6-94eb-faa59aa21ce0",
   "metadata": {},
   "outputs": [],
   "source": [
    "verse1='hello_world'\n",
    "verse2='Hello_World'"
   ]
  },
  {
   "cell_type": "code",
   "execution_count": 26,
   "id": "f7bb7c9e-aec2-49da-bcfc-8663cd3339fe",
   "metadata": {},
   "outputs": [
    {
     "data": {
      "text/plain": [
       "False"
      ]
     },
     "execution_count": 26,
     "metadata": {},
     "output_type": "execute_result"
    }
   ],
   "source": [
    "verse1==verse2"
   ]
  },
  {
   "cell_type": "code",
   "execution_count": 27,
   "id": "f48e2f14-260f-4644-bc7c-84924745269a",
   "metadata": {},
   "outputs": [
    {
     "data": {
      "text/plain": [
       "True"
      ]
     },
     "execution_count": 27,
     "metadata": {},
     "output_type": "execute_result"
    }
   ],
   "source": [
    "verse1 != verse2"
   ]
  },
  {
   "cell_type": "markdown",
   "id": "f624cb65-51e4-495e-80f4-3dd51eeed38f",
   "metadata": {},
   "source": [
    "### 할당하기\n",
    "- 수학에서는 =가 양변이 같음을 의미\n",
    "- 프로그램에서는 =가 할당을 의미\n",
    "- Ex) simon이라는 값을 name에 넣는 것\n",
    "- name='simon'\n",
    "- 오른쪽에 있는 모든 것은 값을 가져야하 한다.('초기화')\n",
    "- 파이썬에서는 다른 프로그래밍 언어와 달리 변수의 타입을 지정하지 않아도 자동으로 지정된다."
   ]
  },
  {
   "cell_type": "code",
   "execution_count": 30,
   "id": "2ad0b5db-0083-4612-acf9-7baf8da617dd",
   "metadata": {},
   "outputs": [
    {
     "name": "stdout",
     "output_type": "stream",
     "text": [
      "Samsung\n"
     ]
    },
    {
     "data": {
      "text/plain": [
       "True"
      ]
     },
     "execution_count": 30,
     "metadata": {},
     "output_type": "execute_result"
    }
   ],
   "source": [
    "name='Samsung'\n",
    "print(name)\n",
    "name=='Samsung'"
   ]
  },
  {
   "cell_type": "code",
   "execution_count": 31,
   "id": "99372832-03ff-4410-9607-2058c8d6d305",
   "metadata": {},
   "outputs": [
    {
     "data": {
      "text/plain": [
       "False"
      ]
     },
     "execution_count": 31,
     "metadata": {},
     "output_type": "execute_result"
    }
   ],
   "source": [
    "name=='samsung'"
   ]
  },
  {
   "cell_type": "code",
   "execution_count": 32,
   "id": "a7997759-832b-4c57-9e95-e82a2ee6a3ab",
   "metadata": {},
   "outputs": [
    {
     "name": "stdout",
     "output_type": "stream",
     "text": [
      "Samsung\n"
     ]
    }
   ],
   "source": [
    "name=='apple'\n",
    "print(name)"
   ]
  },
  {
   "cell_type": "code",
   "execution_count": 33,
   "id": "a460b85e-6a31-41b5-afae-8cf05f9a48b8",
   "metadata": {},
   "outputs": [
    {
     "name": "stdout",
     "output_type": "stream",
     "text": [
      "apple\n"
     ]
    }
   ],
   "source": [
    "#앞에서 한 번 지정한 변수에 새로운 값을 할당하면 그 전의 할당된 값은 사라지고 새로 할당된 값만 남음\n",
    "name='apple'\n",
    "print(name)"
   ]
  },
  {
   "cell_type": "code",
   "execution_count": 35,
   "id": "6c108a0a-affd-44f8-ad54-7bf420383faf",
   "metadata": {},
   "outputs": [
    {
     "data": {
      "text/plain": [
       "str"
      ]
     },
     "execution_count": 35,
     "metadata": {},
     "output_type": "execute_result"
    }
   ],
   "source": [
    "type(name) #변수의 타입을 따로 지정하지 않아도 자동으로 저장됨"
   ]
  },
  {
   "cell_type": "code",
   "execution_count": 37,
   "id": "745d0ffc-f6a9-4dc6-9c71-14996c3f2118",
   "metadata": {},
   "outputs": [
    {
     "name": "stdout",
     "output_type": "stream",
     "text": [
      "20000517\n"
     ]
    },
    {
     "data": {
      "text/plain": [
       "int"
      ]
     },
     "execution_count": 37,
     "metadata": {},
     "output_type": "execute_result"
    }
   ],
   "source": [
    "birthday=20000517\n",
    "print(birthday)\n",
    "type(birthday)"
   ]
  },
  {
   "cell_type": "code",
   "execution_count": 38,
   "id": "fd97c4f3-801e-4a6b-a234-b30393e98fe6",
   "metadata": {},
   "outputs": [
    {
     "name": "stdout",
     "output_type": "stream",
     "text": [
      "20000517\n"
     ]
    },
    {
     "data": {
      "text/plain": [
       "str"
      ]
     },
     "execution_count": 38,
     "metadata": {},
     "output_type": "execute_result"
    }
   ],
   "source": [
    "birthday='20000517'\n",
    "print(birthday)\n",
    "type(birthday)"
   ]
  },
  {
   "cell_type": "code",
   "execution_count": 39,
   "id": "5d279ddf-933a-4ccb-a5da-ebabefd7d621",
   "metadata": {},
   "outputs": [
    {
     "data": {
      "text/plain": [
       "17"
      ]
     },
     "execution_count": 39,
     "metadata": {},
     "output_type": "execute_result"
    }
   ],
   "source": [
    "x=5\n",
    "y=x+12\n",
    "y"
   ]
  },
  {
   "cell_type": "code",
   "execution_count": 40,
   "id": "9d514262-ea54-48a7-8e13-3f26c1a2a29e",
   "metadata": {},
   "outputs": [
    {
     "data": {
      "text/plain": [
       "109625128"
      ]
     },
     "execution_count": 40,
     "metadata": {},
     "output_type": "execute_result"
    }
   ],
   "source": [
    "x=54812564\n",
    "y=x*2\n",
    "y"
   ]
  },
  {
   "cell_type": "markdown",
   "id": "909ed441-0626-4778-beab-a9c49a9ca020",
   "metadata": {},
   "source": [
    "### Ch2. 연습문제"
   ]
  },
  {
   "cell_type": "markdown",
   "id": "e52b2093-07a5-446a-8d46-4a86a1e89f40",
   "metadata": {},
   "source": [
    "+ 정수 99를 변수 prince에 할당하고 출력"
   ]
  },
  {
   "cell_type": "code",
   "execution_count": 49,
   "id": "58c02280-ccbb-471c-b5c2-394f7baa57ae",
   "metadata": {},
   "outputs": [
    {
     "name": "stdout",
     "output_type": "stream",
     "text": [
      "99\n"
     ]
    },
    {
     "data": {
      "text/plain": [
       "int"
      ]
     },
     "execution_count": 49,
     "metadata": {},
     "output_type": "execute_result"
    }
   ],
   "source": [
    "prince=99\n",
    "print(prince)\n",
    "type(prince)"
   ]
  },
  {
   "cell_type": "markdown",
   "id": "1dc7ca8f-d4db-4271-814c-7bf3e2075093",
   "metadata": {},
   "source": [
    "+ 값 5의 타입은?"
   ]
  },
  {
   "cell_type": "code",
   "execution_count": 50,
   "id": "ee047cb3-67bc-4991-bad2-1c6db434328c",
   "metadata": {},
   "outputs": [
    {
     "data": {
      "text/plain": [
       "int"
      ]
     },
     "execution_count": 50,
     "metadata": {},
     "output_type": "execute_result"
    }
   ],
   "source": [
    "type(5)"
   ]
  },
  {
   "cell_type": "markdown",
   "id": "3612e86c-aa77-4be0-a1bd-a7a2400f66d8",
   "metadata": {},
   "source": [
    "+ 값 2.0의 타입은?"
   ]
  },
  {
   "cell_type": "code",
   "execution_count": 51,
   "id": "a12d64f2-1d28-4061-93de-0462f55b73b9",
   "metadata": {},
   "outputs": [
    {
     "data": {
      "text/plain": [
       "float"
      ]
     },
     "execution_count": 51,
     "metadata": {},
     "output_type": "execute_result"
    }
   ],
   "source": [
    "type(2.0)"
   ]
  },
  {
   "cell_type": "markdown",
   "id": "f9207e04-74f7-45f1-9f0b-9863553bfcbc",
   "metadata": {},
   "source": [
    "+ 표현식 5+2.0의 타입은?"
   ]
  },
  {
   "cell_type": "code",
   "execution_count": 53,
   "id": "e61c470c-3e17-4abb-b095-0ee4613adebb",
   "metadata": {},
   "outputs": [
    {
     "data": {
      "text/plain": [
       "float"
      ]
     },
     "execution_count": 53,
     "metadata": {},
     "output_type": "execute_result"
    }
   ],
   "source": [
    "type(5+2.0) #소수와 정수를 합하면 값의 타입은 소수이다."
   ]
  }
 ],
 "metadata": {
  "kernelspec": {
   "display_name": "Python 3 (ipykernel)",
   "language": "python",
   "name": "python3"
  },
  "language_info": {
   "codemirror_mode": {
    "name": "ipython",
    "version": 3
   },
   "file_extension": ".py",
   "mimetype": "text/x-python",
   "name": "python",
   "nbconvert_exporter": "python",
   "pygments_lexer": "ipython3",
   "version": "3.9.7"
  }
 },
 "nbformat": 4,
 "nbformat_minor": 5
}
